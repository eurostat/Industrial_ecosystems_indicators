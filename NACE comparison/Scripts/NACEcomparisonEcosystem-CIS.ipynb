{
 "cells": [
  {
   "cell_type": "code",
   "execution_count": 1,
   "metadata": {},
   "outputs": [
    {
     "data": {
      "text/plain": [
       "array(['A', 'C10', 'C11', 'C12', 'C10-C12', 'C13', 'C14', 'C15',\n",
       "       'C13-C15', 'C16', 'C17', 'C18', 'C19', 'C20', 'C21', 'C22', 'C23',\n",
       "       'C24', 'C25', 'C26', 'C27', 'C28', 'C29', 'C30', 'C31', 'C32',\n",
       "       'C33', 'D35', 'D', 'E36', 'E37', 'E38', 'E39', 'E37-E39', 'F',\n",
       "       'G45', 'G46', 'G47', 'H49', 'H50', 'H51', 'H52', 'H53', 'I', 'J58',\n",
       "       'J59', 'J60', 'J59_J60', 'J61', 'J62', 'J63', 'J62_J63', 'L',\n",
       "       'M69_M70', 'M69', 'M70', 'M71', 'M72', 'M73', 'M74_M75', 'M74',\n",
       "       'M75', 'N77', 'N78', 'N77_N78', 'N79', 'N80', 'N81', 'N82', 'P85',\n",
       "       'P', 'Q86', 'Q87_Q88', 'R90-R92', 'R93', 'S94', 'S95', 'S96', 'T'],\n",
       "      dtype=object)"
      ]
     },
     "execution_count": 1,
     "metadata": {},
     "output_type": "execute_result"
    }
   ],
   "source": [
    "# pandas\n",
    "import pandas as pd \n",
    "weights_target = pd.read_excel(\"ecosystemweightsextended.xlsx\")\n",
    "nace_weights=weights_target.NACE_R2.unique()\n",
    "nace_weights"
   ]
  },
  {
   "cell_type": "code",
   "execution_count": 2,
   "metadata": {},
   "outputs": [
    {
     "data": {
      "text/plain": [
       "Index(['indic_inn', 'enterpr', 'sizeclas', 'nace_r2', 'unit', 'time\\geo',\n",
       "       'EU27_2020', 'EA19', 'BE', 'BG', 'CZ', 'DK', 'DE', 'EE', 'IE', 'EL',\n",
       "       'ES', 'FR', 'HR', 'IT', 'CY', 'LV', 'LT', 'LU', 'HU', 'MT', 'NL', 'AT',\n",
       "       'PL', 'PT', 'RO', 'SI', 'SK', 'FI', 'SE', 'IS', 'NO', 'CH', 'TR'],\n",
       "      dtype='object')"
      ]
     },
     "execution_count": 2,
     "metadata": {},
     "output_type": "execute_result"
    }
   ],
   "source": [
    "import eurostat\n",
    "df = eurostat.get_data_df('inn_cis11_bas', flags=False)\n",
    "df.columns"
   ]
  },
  {
   "cell_type": "code",
   "execution_count": 3,
   "metadata": {},
   "outputs": [
    {
     "data": {
      "text/plain": [
       "array(['B', 'B-E', 'B-M73_INN', 'C', 'C10-C12', 'C13-C15', 'C16-C18',\n",
       "       'C19-C22', 'C19_C20', 'C20', 'C21', 'C22_C23', 'C23', 'C24',\n",
       "       'C24_C25', 'C25', 'C25-C30', 'C26', 'C26-C28', 'C29_C30',\n",
       "       'C31-C33', 'D', 'E', 'E36', 'E37-E39', 'G', 'G-N', 'G46',\n",
       "       'G46-M73_INN', 'H', 'H49-H51', 'H52_H53', 'J', 'J58', 'J58-J60',\n",
       "       'J61', 'J62', 'J62_J63', 'J63', 'K', 'K64', 'K65', 'K66', 'M',\n",
       "       'M71', 'M71-M73', 'M72', 'M73', 'A', 'A01', 'A02', 'A03', 'B05',\n",
       "       'B06', 'B07', 'B08', 'B09', 'C10', 'C11', 'C12', 'C13', 'C14',\n",
       "       'C15', 'C16', 'C17', 'C18', 'C19', 'C22', 'C27', 'C28', 'C29',\n",
       "       'C30', 'C31', 'C32', 'C33', 'D351', 'D352', 'D353', 'E37', 'E38',\n",
       "       'E39', 'F', 'G45', 'G47', 'H49', 'H50', 'H51', 'H52', 'H53', 'I',\n",
       "       'J59', 'J60', 'L', 'M69', 'M70', 'M74', 'M75', 'N', 'N77', 'N78',\n",
       "       'N79', 'N80', 'N81', 'N82'], dtype=object)"
      ]
     },
     "execution_count": 3,
     "metadata": {},
     "output_type": "execute_result"
    }
   ],
   "source": [
    "nace_cis=df.nace_r2.unique()\n",
    "nace_cis"
   ]
  },
  {
   "cell_type": "code",
   "execution_count": 4,
   "metadata": {},
   "outputs": [
    {
     "data": {
      "text/plain": [
       "{'D35',\n",
       " 'J59_J60',\n",
       " 'M69_M70',\n",
       " 'M74_M75',\n",
       " 'N77_N78',\n",
       " 'P',\n",
       " 'P85',\n",
       " 'Q86',\n",
       " 'Q87_Q88',\n",
       " 'R90-R92',\n",
       " 'R93',\n",
       " 'S94',\n",
       " 'S95',\n",
       " 'S96',\n",
       " 'T'}"
      ]
     },
     "execution_count": 4,
     "metadata": {},
     "output_type": "execute_result"
    }
   ],
   "source": [
    "initial_list_nace=set(nace_weights)-set(nace_cis)\n",
    "initial_list_nace\n",
    "#in weights buy not in cis"
   ]
  },
  {
   "cell_type": "code",
   "execution_count": 5,
   "metadata": {},
   "outputs": [],
   "source": [
    "#eliminate the duplicates to end with the final list of naces that are not in CIS\n",
    "#'D35' = 'D'\n",
    "# 'J59_J60' =  'J58-J60'-'J58'\n",
    "#'M69_M70'= 'M69'+ 'M70',\n",
    "#'M74_M75'= 'M74'+ 'M75'\n",
    "#'N77_N78'='N77'+ 'N78'\n",
    "list_nace=[ 'P', 'Q86', 'Q87_Q88', 'R90-R92', 'R93', 'S94', 'S95', 'S96','T']"
   ]
  },
  {
   "cell_type": "code",
   "execution_count": 6,
   "metadata": {},
   "outputs": [
    {
     "name": "stdout",
     "output_type": "stream",
     "text": [
      "P\n",
      "Cultural and Creative Industries\n",
      "Q86\n",
      "Health\n",
      "Q87_Q88\n",
      "Health\n",
      "Q87_Q88\n",
      "Proximity, Social Economy and Civil Security \n",
      "R90-R92\n",
      "Cultural and Creative Industries\n",
      "R90-R92\n",
      "Tourism\n",
      "R93\n",
      "Tourism\n",
      "S94\n",
      "Cultural and Creative Industries\n",
      "S95\n",
      "Cultural and Creative Industries\n",
      "S95\n",
      "Digital\n",
      "S95\n",
      "Proximity, Social Economy and Civil Security \n",
      "S96\n",
      "Proximity, Social Economy and Civil Security \n",
      "T\n",
      "Proximity, Social Economy and Civil Security \n"
     ]
    },
    {
     "data": {
      "text/plain": [
       "['Cultural and Creative Industries',\n",
       " 'Health',\n",
       " 'Proximity, Social Economy and Civil Security ',\n",
       " 'Tourism',\n",
       " 'Digital']"
      ]
     },
     "execution_count": 6,
     "metadata": {},
     "output_type": "execute_result"
    }
   ],
   "source": [
    "my_list_ecosystems=[]\n",
    "for j in range (0, len(weights_target)):\n",
    "    for i in range (1, 15):\n",
    "        if weights_target.iloc[j,0] in list_nace:\n",
    "            if weights_target.iloc[j,i]>0:\n",
    "                print(weights_target.iloc[j,0])\n",
    "                print(weights_target.columns[i])\n",
    "                if weights_target.columns[i] not in my_list_ecosystems:\n",
    "                    my_list_ecosystems.append(weights_target.columns[i])\n",
    "my_list_ecosystems                     "
   ]
  },
  {
   "cell_type": "code",
   "execution_count": null,
   "metadata": {},
   "outputs": [],
   "source": []
  },
  {
   "cell_type": "code",
   "execution_count": null,
   "metadata": {},
   "outputs": [],
   "source": []
  }
 ],
 "metadata": {
  "kernelspec": {
   "display_name": "Python 3",
   "language": "python",
   "name": "python3"
  },
  "language_info": {
   "codemirror_mode": {
    "name": "ipython",
    "version": 3
   },
   "file_extension": ".py",
   "mimetype": "text/x-python",
   "name": "python",
   "nbconvert_exporter": "python",
   "pygments_lexer": "ipython3",
   "version": "3.7.6"
  }
 },
 "nbformat": 4,
 "nbformat_minor": 4
}
