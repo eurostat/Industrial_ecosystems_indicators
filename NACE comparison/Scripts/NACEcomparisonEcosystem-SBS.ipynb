{
 "cells": [
  {
   "cell_type": "code",
   "execution_count": 1,
   "metadata": {},
   "outputs": [],
   "source": [
    "# pandas\n",
    "import pandas as pd \n",
    "weights_target = pd.read_excel(\"ecosystemweightsextended.xlsx\")\n",
    "nace_weights=weights_target.NACE_R2.unique()"
   ]
  },
  {
   "cell_type": "code",
   "execution_count": 2,
   "metadata": {},
   "outputs": [
    {
     "data": {
      "text/plain": [
       "Index([ 'nace_r2', 'indic_sb', 'size_emp', 'geo\\time',       2020,       2019,\n",
       "             2018,       2017,       2016,       2015,       2014,       2013,\n",
       "             2012,       2011,       2010,       2009,       2008,       2007,\n",
       "             2006,       2005],\n",
       "      dtype='object')"
      ]
     },
     "execution_count": 2,
     "metadata": {},
     "output_type": "execute_result"
    }
   ],
   "source": [
    "import eurostat\n",
    "df = eurostat.get_data_df('sbs_sc_sca_r2', flags=False)\n",
    "df.columns"
   ]
  },
  {
   "cell_type": "code",
   "execution_count": 3,
   "metadata": {},
   "outputs": [
    {
     "data": {
      "text/plain": [
       "array(['B', 'B-N_S95_X_K', 'B05', 'B051', 'B052', 'B06', 'B061', 'B062',\n",
       "       'B07', 'B071', 'B072', 'B08', 'B081', 'B089', 'B09', 'B091',\n",
       "       'B099', 'C', 'C10', 'C101', 'C102', 'C103', 'C104', 'C105', 'C106',\n",
       "       'C107', 'C108', 'C109', 'C11', 'C110', 'C12', 'C120', 'C13',\n",
       "       'C131', 'C132', 'C133', 'C139', 'C14', 'C141', 'C142', 'C143',\n",
       "       'C15', 'C151', 'C152', 'C16', 'C161', 'C162', 'C17', 'C171',\n",
       "       'C172', 'C18', 'C181', 'C182', 'C19', 'C191', 'C192', 'C20',\n",
       "       'C201', 'C202', 'C203', 'C204', 'C205', 'C206', 'C21', 'C211',\n",
       "       'C212', 'C22', 'C221', 'C222', 'C23', 'C231', 'C232', 'C233',\n",
       "       'C234', 'C235', 'C236', 'C237', 'C239', 'C24', 'C241', 'C242',\n",
       "       'C243', 'C244', 'C245', 'C25', 'C251', 'C252', 'C253', 'C254',\n",
       "       'C255', 'C256', 'C257', 'C259', 'C26', 'C261', 'C262', 'C263',\n",
       "       'C264', 'C265', 'C266', 'C267', 'C268', 'C27', 'C271', 'C272',\n",
       "       'C273', 'C274', 'C275', 'C279', 'C28', 'C281', 'C282', 'C283',\n",
       "       'C284', 'C289', 'C29', 'C291', 'C292', 'C293', 'C30', 'C301',\n",
       "       'C302', 'C303', 'C304', 'C309', 'C31', 'C310', 'C32', 'C321',\n",
       "       'C322', 'C323', 'C324', 'C325', 'C329', 'C33', 'C331', 'C332', 'D',\n",
       "       'D35', 'D351', 'D352', 'D353', 'E', 'E36', 'E360', 'E37', 'E370',\n",
       "       'E38', 'E381', 'E382', 'E383', 'E39', 'E390', 'F', 'F41', 'F411',\n",
       "       'F412', 'F42', 'F421', 'F422', 'F429', 'F43', 'F431', 'F432',\n",
       "       'F433', 'F439', 'G', 'G45', 'G46', 'G47', 'H', 'H49', 'H50', 'H51',\n",
       "       'H52', 'H53', 'I', 'I55', 'I56', 'J', 'J58', 'J59', 'J60', 'J61',\n",
       "       'J62', 'J63', 'L', 'L68', 'M', 'M69', 'M70', 'M71', 'M72', 'M73',\n",
       "       'M74', 'M75', 'N', 'N77', 'N78', 'N79', 'N80', 'N81', 'N82', 'S95'],\n",
       "      dtype=object)"
      ]
     },
     "execution_count": 3,
     "metadata": {},
     "output_type": "execute_result"
    }
   ],
   "source": [
    "nace_sbs=df.nace_r2.unique()\n",
    "nace_sbs"
   ]
  },
  {
   "cell_type": "code",
   "execution_count": 5,
   "metadata": {},
   "outputs": [
    {
     "data": {
      "text/plain": [
       "{'A',\n",
       " 'C10-C12',\n",
       " 'C13-C15',\n",
       " 'E37-E39',\n",
       " 'J59_J60',\n",
       " 'J62_J63',\n",
       " 'M69_M70',\n",
       " 'M74_M75',\n",
       " 'N77_N78',\n",
       " 'P',\n",
       " 'P85',\n",
       " 'Q86',\n",
       " 'Q87_Q88',\n",
       " 'R90-R92',\n",
       " 'R93',\n",
       " 'S94',\n",
       " 'S96',\n",
       " 'T'}"
      ]
     },
     "execution_count": 5,
     "metadata": {},
     "output_type": "execute_result"
    }
   ],
   "source": [
    "initial_list_nace=set(nace_weights)-set(nace_sbs)\n",
    "initial_list_nace\n",
    "#those that are in weights but not in sbs"
   ]
  },
  {
   "cell_type": "code",
   "execution_count": 8,
   "metadata": {},
   "outputs": [],
   "source": [
    "#We eliminate the ones that are represented by other codes so we obtain finally the list of naces that are not covered in the database\n",
    "list_nace=['A', 'P85',  'Q86', 'Q87_Q88', 'R90-R92', 'R93', 'S94',  'T']"
   ]
  },
  {
   "cell_type": "code",
   "execution_count": 9,
   "metadata": {},
   "outputs": [
    {
     "name": "stdout",
     "output_type": "stream",
     "text": [
      "A\n",
      "Agri-food\n",
      "P85\n",
      "Cultural and Creative Industries\n",
      "Q86\n",
      "Health\n",
      "Q87_Q88\n",
      "Health\n",
      "Q87_Q88\n",
      "Proximity, Social Economy and Civil Security \n",
      "R90-R92\n",
      "Cultural and Creative Industries\n",
      "R90-R92\n",
      "Tourism\n",
      "R93\n",
      "Tourism\n",
      "S94\n",
      "Cultural and Creative Industries\n",
      "T\n",
      "Proximity, Social Economy and Civil Security \n"
     ]
    },
    {
     "data": {
      "text/plain": [
       "['Agri-food',\n",
       " 'Cultural and Creative Industries',\n",
       " 'Health',\n",
       " 'Proximity, Social Economy and Civil Security ',\n",
       " 'Tourism']"
      ]
     },
     "execution_count": 9,
     "metadata": {},
     "output_type": "execute_result"
    }
   ],
   "source": [
    "my_list_ecosystems=[]\n",
    "for j in range (0, len(weights_target)):\n",
    "    for i in range (1, 15):\n",
    "        if weights_target.iloc[j,0] in list_nace:\n",
    "            if weights_target.iloc[j,i]>0:\n",
    "                print(weights_target.iloc[j,0])\n",
    "                print(weights_target.columns[i])\n",
    "                if weights_target.columns[i] not in my_list_ecosystems:\n",
    "                    my_list_ecosystems.append(weights_target.columns[i])\n",
    "my_list_ecosystems                     "
   ]
  },
  {
   "cell_type": "code",
   "execution_count": null,
   "metadata": {},
   "outputs": [],
   "source": []
  },
  {
   "cell_type": "code",
   "execution_count": null,
   "metadata": {},
   "outputs": [],
   "source": []
  }
 ],
 "metadata": {
  "kernelspec": {
   "display_name": "Python 3",
   "language": "python",
   "name": "python3"
  },
  "language_info": {
   "codemirror_mode": {
    "name": "ipython",
    "version": 3
   },
   "file_extension": ".py",
   "mimetype": "text/x-python",
   "name": "python",
   "nbconvert_exporter": "python",
   "pygments_lexer": "ipython3",
   "version": "3.7.6"
  }
 },
 "nbformat": 4,
 "nbformat_minor": 4
}
