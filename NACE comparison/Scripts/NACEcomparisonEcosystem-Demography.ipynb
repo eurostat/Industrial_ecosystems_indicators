{
 "cells": [
  {
   "cell_type": "code",
   "execution_count": 1,
   "metadata": {},
   "outputs": [],
   "source": [
    "# pandas\n",
    "import pandas as pd \n",
    "weights_target = pd.read_excel(\"ecosystemweightsextended.xlsx\")\n",
    "nace_weights=weights_target.NACE_R2.unique()"
   ]
  },
  {
   "cell_type": "code",
   "execution_count": 2,
   "metadata": {},
   "outputs": [
    {
     "data": {
      "text/plain": [
       "Index(['indic_sb', 'leg_form',  'nace_r2', 'geo\\time',       2020,       2019,\n",
       "             2018,       2017,       2016,       2015,       2014,       2013,\n",
       "             2012,       2011,       2010,       2009,       2008,       2007,\n",
       "             2006,       2005,       2004],\n",
       "      dtype='object')"
      ]
     },
     "execution_count": 2,
     "metadata": {},
     "output_type": "execute_result"
    }
   ],
   "source": [
    "import eurostat\n",
    "df = eurostat.get_data_df('bd_9ac_l_form_r2', flags=False)\n",
    "df.columns"
   ]
  },
  {
   "cell_type": "code",
   "execution_count": 3,
   "metadata": {},
   "outputs": [
    {
     "data": {
      "text/plain": [
       "array(['B', 'B-E', 'B-N_X_K642', 'B-S_X_K642', 'C', 'C10-C12', 'C13_C14',\n",
       "       'C15', 'C16', 'C17_C18', 'C19', 'C20_C21', 'C22', 'C23', 'C24_C25',\n",
       "       'C26_C27', 'C28', 'C29_C30', 'C31_C32', 'C33', 'C_ICT', 'D', 'E',\n",
       "       'F', 'G', 'G-N_X_K642', 'G-U_ICT', 'G45', 'G46', 'G46_ICT', 'G47',\n",
       "       'G471', 'G472', 'G473', 'G474', 'G475', 'G476', 'G477', 'G478',\n",
       "       'G479', 'H', 'H49', 'H50', 'H51', 'H52', 'H53', 'I', 'I55', 'I56',\n",
       "       'ICT', 'J', 'J58', 'J59', 'J60', 'J61', 'J62', 'J620', 'J6201',\n",
       "       'J6202', 'J6203', 'J6209', 'J63', 'K64_X_K642', 'K65', 'K66',\n",
       "       'K_X_K642', 'L', 'L68', 'L681', 'L6810', 'L682', 'L6820', 'L683',\n",
       "       'L6831', 'L6832', 'M', 'M69', 'M691', 'M6910', 'M692', 'M6920',\n",
       "       'M70', 'M701', 'M7010', 'M702', 'M7021', 'M7022', 'M71', 'M711',\n",
       "       'M7111', 'M7112', 'M712', 'M7120', 'M72', 'M721', 'M7211', 'M7219',\n",
       "       'M722', 'M7220', 'M73', 'M731', 'M7311', 'M7312', 'M732', 'M7320',\n",
       "       'M74', 'M741', 'M7410', 'M742', 'M7420', 'M743', 'M7430', 'M749',\n",
       "       'M7490', 'M75', 'M750', 'M7500', 'N', 'N77', 'N771', 'N7711',\n",
       "       'N7712', 'N772', 'N7721', 'N7722', 'N7729', 'N773', 'N7731',\n",
       "       'N7732', 'N7733', 'N7734', 'N7735', 'N7739', 'N774', 'N7740',\n",
       "       'N78', 'N781', 'N7810', 'N782', 'N7820', 'N783', 'N7830', 'N79',\n",
       "       'N791', 'N7911', 'N7912', 'N799', 'N7990', 'N80', 'N801', 'N8010',\n",
       "       'N802', 'N8020', 'N803', 'N8030', 'N81', 'N811', 'N8110', 'N812',\n",
       "       'N8121', 'N8122', 'N8129', 'N813', 'N8130', 'N82', 'N821', 'N8211',\n",
       "       'N8219', 'N822', 'N8220', 'N823', 'N8230', 'N829', 'N8291',\n",
       "       'N8292', 'N8299', 'P', 'P-S', 'P-S_X_S94', 'P85', 'Q', 'Q86',\n",
       "       'Q87', 'Q88', 'R', 'R90', 'R91', 'R92', 'R93', 'S', 'S94', 'S95',\n",
       "       'S96', 'TOTAL'], dtype=object)"
      ]
     },
     "execution_count": 3,
     "metadata": {},
     "output_type": "execute_result"
    }
   ],
   "source": [
    "nace_dem=df.nace_r2.unique()\n",
    "nace_dem"
   ]
  },
  {
   "cell_type": "code",
   "execution_count": 4,
   "metadata": {},
   "outputs": [
    {
     "data": {
      "text/plain": [
       "{'A',\n",
       " 'C10',\n",
       " 'C11',\n",
       " 'C12',\n",
       " 'C13',\n",
       " 'C13-C15',\n",
       " 'C14',\n",
       " 'C17',\n",
       " 'C18',\n",
       " 'C20',\n",
       " 'C21',\n",
       " 'C24',\n",
       " 'C25',\n",
       " 'C26',\n",
       " 'C27',\n",
       " 'C29',\n",
       " 'C30',\n",
       " 'C31',\n",
       " 'C32',\n",
       " 'D35',\n",
       " 'E36',\n",
       " 'E37',\n",
       " 'E37-E39',\n",
       " 'E38',\n",
       " 'E39',\n",
       " 'J59_J60',\n",
       " 'J62_J63',\n",
       " 'M69_M70',\n",
       " 'M74_M75',\n",
       " 'N77_N78',\n",
       " 'Q87_Q88',\n",
       " 'R90-R92',\n",
       " 'T'}"
      ]
     },
     "execution_count": 4,
     "metadata": {},
     "output_type": "execute_result"
    }
   ],
   "source": [
    "initial_list_nace=set(nace_weights)-set(nace_dem)\n",
    "initial_list_nace\n",
    "#estan en weights pero no están en sbs"
   ]
  },
  {
   "cell_type": "code",
   "execution_count": 5,
   "metadata": {},
   "outputs": [],
   "source": [
    "#quitamos los duplicados agrupados\n",
    "list_nace=['A', 'T']"
   ]
  },
  {
   "cell_type": "code",
   "execution_count": 6,
   "metadata": {},
   "outputs": [
    {
     "name": "stdout",
     "output_type": "stream",
     "text": [
      "A\n",
      "Agri-food\n",
      "T\n",
      "Proximity, Social Economy and Civil Security \n"
     ]
    },
    {
     "data": {
      "text/plain": [
       "['Agri-food', 'Proximity, Social Economy and Civil Security ']"
      ]
     },
     "execution_count": 6,
     "metadata": {},
     "output_type": "execute_result"
    }
   ],
   "source": [
    "my_list_ecosystems=[]\n",
    "for j in range (0, len(weights_target)):\n",
    "    for i in range (1, 15):\n",
    "        if weights_target.iloc[j,0] in list_nace:\n",
    "            if weights_target.iloc[j,i]>0:\n",
    "                print(weights_target.iloc[j,0])\n",
    "                print(weights_target.columns[i])\n",
    "                if weights_target.columns[i] not in my_list_ecosystems:\n",
    "                    my_list_ecosystems.append(weights_target.columns[i])\n",
    "my_list_ecosystems                     "
   ]
  },
  {
   "cell_type": "code",
   "execution_count": null,
   "metadata": {},
   "outputs": [],
   "source": []
  },
  {
   "cell_type": "code",
   "execution_count": null,
   "metadata": {},
   "outputs": [],
   "source": []
  }
 ],
 "metadata": {
  "kernelspec": {
   "display_name": "Python 3",
   "language": "python",
   "name": "python3"
  },
  "language_info": {
   "codemirror_mode": {
    "name": "ipython",
    "version": 3
   },
   "file_extension": ".py",
   "mimetype": "text/x-python",
   "name": "python",
   "nbconvert_exporter": "python",
   "pygments_lexer": "ipython3",
   "version": "3.7.6"
  }
 },
 "nbformat": 4,
 "nbformat_minor": 4
}
